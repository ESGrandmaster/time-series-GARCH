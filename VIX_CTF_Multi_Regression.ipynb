{
  "nbformat": 4,
  "nbformat_minor": 0,
  "metadata": {
    "colab": {
      "name": "VIX_CTF_Multi_Regression.ipynb",
      "provenance": [],
      "collapsed_sections": []
    },
    "kernelspec": {
      "name": "python3",
      "display_name": "Python 3"
    },
    "language_info": {
      "name": "python"
    }
  },
  "cells": [
    {
      "cell_type": "markdown",
      "metadata": {
        "id": "JZdEsagsf7Vg"
      },
      "source": [
        "# Importing Libraries"
      ]
    },
    {
      "cell_type": "code",
      "metadata": {
        "id": "qYzNOjB3f8qI",
        "colab": {
          "base_uri": "https://localhost:8080/"
        },
        "outputId": "3a070985-9ba1-4b0e-b7b6-7e1c214b8e1e"
      },
      "source": [
        "!pip --quiet install yfinance\n",
        "!pip --quiet install arch\n",
        "import yfinance as yf\n",
        "import datetime as dt\n",
        "import numpy as np\n",
        "import pandas as pd\n",
        "import matplotlib.pyplot as plt\n",
        "import seaborn as sns\n",
        "import scipy.stats as ss\n",
        "import statsmodels.api as sm\n",
        "# from arch import arch_model\n",
        "sns.set()\n",
        "%matplotlib inline\n",
        "\n",
        "import pandas_datareader.data as web\n",
        "from datetime import datetime, timedelta\n",
        "from arch import arch_model\n",
        "from statsmodels.graphics.tsaplots import plot_acf, plot_pacf"
      ],
      "execution_count": null,
      "outputs": [
        {
          "output_type": "stream",
          "name": "stdout",
          "text": [
            "\u001b[K     |████████████████████████████████| 6.3 MB 7.5 MB/s \n",
            "\u001b[?25h  Building wheel for yfinance (setup.py) ... \u001b[?25l\u001b[?25hdone\n",
            "\u001b[K     |████████████████████████████████| 899 kB 5.5 MB/s \n",
            "\u001b[K     |████████████████████████████████| 9.8 MB 42.0 MB/s \n",
            "\u001b[?25h"
          ]
        }
      ]
    },
    {
      "cell_type": "markdown",
      "metadata": {
        "id": "YghdDDqTgFU1"
      },
      "source": [
        "# Downloading data from Yahoo Finance"
      ]
    },
    {
      "cell_type": "code",
      "metadata": {
        "colab": {
          "base_uri": "https://localhost:8080/"
        },
        "id": "QZ-czkgRdsVI",
        "outputId": "44ea3ca3-1535-4136-8fd7-bc16e8057209"
      },
      "source": [
        "start = dt.datetime(2021, 10, 1)\n",
        "end = dt.datetime.now()\n",
        "\n",
        "df = yf.download(\"WE\", start=start, end=end)\n",
        "df_spy = yf.download(\"SPY\", start=start, end=end)\n",
        "df=df[['Adj Close']]\n",
        "df_spy=df_spy[['Adj Close']]\n",
        "df = df.rename({'Adj Close': 'VIX_Close'}, axis=1)\n",
        "df_spy = df_spy.rename({'Adj Close': 'SPY_Close'}, axis=1)"
      ],
      "execution_count": null,
      "outputs": [
        {
          "output_type": "stream",
          "name": "stdout",
          "text": [
            "[*********************100%***********************]  1 of 1 completed\n",
            "[*********************100%***********************]  1 of 1 completed\n"
          ]
        }
      ]
    },
    {
      "cell_type": "code",
      "metadata": {
        "colab": {
          "base_uri": "https://localhost:8080/",
          "height": 328
        },
        "id": "GlWQF_YagC5D",
        "outputId": "eb5cd705-3848-48d8-91e3-5218fd7cef4c"
      },
      "source": [
        "df"
      ],
      "execution_count": null,
      "outputs": [
        {
          "output_type": "execute_result",
          "data": {
            "text/html": [
              "<div>\n",
              "<style scoped>\n",
              "    .dataframe tbody tr th:only-of-type {\n",
              "        vertical-align: middle;\n",
              "    }\n",
              "\n",
              "    .dataframe tbody tr th {\n",
              "        vertical-align: top;\n",
              "    }\n",
              "\n",
              "    .dataframe thead th {\n",
              "        text-align: right;\n",
              "    }\n",
              "</style>\n",
              "<table border=\"1\" class=\"dataframe\">\n",
              "  <thead>\n",
              "    <tr style=\"text-align: right;\">\n",
              "      <th></th>\n",
              "      <th>VIX_Close</th>\n",
              "    </tr>\n",
              "    <tr>\n",
              "      <th>Date</th>\n",
              "      <th></th>\n",
              "    </tr>\n",
              "  </thead>\n",
              "  <tbody>\n",
              "    <tr>\n",
              "      <th>2021-10-21</th>\n",
              "      <td>11.78</td>\n",
              "    </tr>\n",
              "    <tr>\n",
              "      <th>2021-10-22</th>\n",
              "      <td>13.02</td>\n",
              "    </tr>\n",
              "    <tr>\n",
              "      <th>2021-10-25</th>\n",
              "      <td>13.18</td>\n",
              "    </tr>\n",
              "    <tr>\n",
              "      <th>2021-10-26</th>\n",
              "      <td>12.35</td>\n",
              "    </tr>\n",
              "    <tr>\n",
              "      <th>2021-10-27</th>\n",
              "      <td>10.36</td>\n",
              "    </tr>\n",
              "    <tr>\n",
              "      <th>2021-10-28</th>\n",
              "      <td>10.57</td>\n",
              "    </tr>\n",
              "    <tr>\n",
              "      <th>2021-10-29</th>\n",
              "      <td>10.21</td>\n",
              "    </tr>\n",
              "    <tr>\n",
              "      <th>2021-11-01</th>\n",
              "      <td>9.99</td>\n",
              "    </tr>\n",
              "  </tbody>\n",
              "</table>\n",
              "</div>"
            ],
            "text/plain": [
              "            VIX_Close\n",
              "Date                 \n",
              "2021-10-21      11.78\n",
              "2021-10-22      13.02\n",
              "2021-10-25      13.18\n",
              "2021-10-26      12.35\n",
              "2021-10-27      10.36\n",
              "2021-10-28      10.57\n",
              "2021-10-29      10.21\n",
              "2021-11-01       9.99"
            ]
          },
          "metadata": {},
          "execution_count": 9
        }
      ]
    },
    {
      "cell_type": "code",
      "metadata": {
        "colab": {
          "base_uri": "https://localhost:8080/",
          "height": 541
        },
        "id": "0Pp_Lw0Pf3we",
        "outputId": "8f2cab8a-c1c1-463d-80be-518dfb43c99e"
      },
      "source": [
        "df[\"VIX_Close\"].plot(figsize=(12,8),title=\"VIX vs SPY Close Price\",fontsize=10)\n",
        "plt.ylabel('Close Price', fontsize=12)\n",
        "# df_spy[\"SPY_Close\"].plot(figsize=(12,8),fontsize=10,secondary_y=True)\n",
        "\n",
        "plt.xlabel('Date', fontsize=12)\n",
        "# df[\"MA 20\"][20:].plot(figsize=(10,5),color=\"Red\")\n",
        "plt.show()"
      ],
      "execution_count": null,
      "outputs": [
        {
          "output_type": "display_data",
          "data": {
            "image/png": "[encoded data removed]",
            "text/plain": [
              "<Figure size 864x576 with 1 Axes>"
            ]
          },
          "metadata": {
            "needs_background": "light"
          }
        }
      ]
    },
    {
      "cell_type": "markdown",
      "metadata": {
        "id": "kLt3a58LgJjD"
      },
      "source": [
        "# Calculating historical volatilities 6-month, 3-month, 1-month, or 2-week)"
      ]
    },
    {
      "cell_type": "code",
      "metadata": {
        "id": "Y2UJdvjcaGXh"
      },
      "source": [
        "df[\"Log_VIX_Close\"]=np.log(df[\"VIX_Close\"]).diff()\n",
        "\n",
        "window_1 = 180  # days in rolling window\n",
        "window_2 = 90\n",
        "window_3 = 30\n",
        "window_4 = 14\n",
        "\n",
        "dpy = 252  # trading days per year\n",
        "\n",
        "ann_factor_1 = dpy / window_1\n",
        "ann_factor_2= dpy / window_2\n",
        "ann_factor_3= dpy / window_3\n",
        "ann_factor_4= dpy / window_4\n",
        "\n",
        "df['real_vol_180'] = np.sqrt(df[\"Log_VIX_Close\"].rolling(window_1).var() * ann_factor_1)\n",
        "df['real_vol_90'] = np.sqrt(df[\"Log_VIX_Close\"].rolling(window_2).var() * ann_factor_2)\n",
        "df['real_vol_30'] = np.sqrt(df[\"Log_VIX_Close\"].rolling(window_3).var() * ann_factor_3)\n",
        "df['real_vol_14'] = np.sqrt(df[\"Log_VIX_Close\"].rolling(window_4).var() * ann_factor_4)\n",
        "  \n",
        "# df.tail(30)\n"
      ],
      "execution_count": null,
      "outputs": []
    },
    {
      "cell_type": "code",
      "metadata": {
        "colab": {
          "base_uri": "https://localhost:8080/",
          "height": 323
        },
        "id": "wefQgxFdrcMD",
        "outputId": "83957872-2255-4f4e-ec96-71201e3fbfd3"
      },
      "source": [
        "plt.figure(figsize=(10,4))\n",
        "df['real_vol_180'].plot(color='red')\n",
        "df['real_vol_90'].plot(color='blue')\n",
        "df['real_vol_30'].plot(color='black')\n",
        "df['real_vol_14'].plot(color='green')\n",
        "plt.legend(['Rolling 6-month', 'Rolling 3-month', 'Rolling 1-month','Rolling 2-week'])\n",
        "\n",
        "plt.title('Historical Volatilities', fontsize=20)"
      ],
      "execution_count": null,
      "outputs": [
        {
          "output_type": "execute_result",
          "data": {
            "text/plain": [
              "Text(0.5, 1.0, 'Historical Volatilities')"
            ]
          },
          "metadata": {},
          "execution_count": 6
        },
        {
          "output_type": "display_data",
          "data": {
            "image/png": "[encoded data removed]",
            "text/plain": [
              "<Figure size 720x288 with 1 Axes>"
            ]
          },
          "metadata": {
            "needs_background": "light"
          }
        }
      ]
    },
    {
      "cell_type": "code",
      "metadata": {
        "id": "0YiV69BXgnc3"
      },
      "source": [
        "# returns = 100 * df.VIX_Close.pct_change()\n",
        "returns = 100*(df.VIX_Close.shift(1) / df.VIX_Close - 1).dropna()\n"
      ],
      "execution_count": null,
      "outputs": []
    },
    {
      "cell_type": "code",
      "metadata": {
        "id": "vFrxv_TxLDTz"
      },
      "source": [
        "# returns=np.array(returns)"
      ],
      "execution_count": null,
      "outputs": []
    },
    {
      "cell_type": "code",
      "metadata": {
        "colab": {
          "base_uri": "https://localhost:8080/",
          "height": 306
        },
        "id": "AXsOzqSzYPUy",
        "outputId": "0504c2d0-dc09-4a64-fe8f-56a26f79b4ee"
      },
      "source": [
        "plt.figure(figsize=(10,4))\n",
        "plt.plot(returns)\n",
        "plt.ylabel('Pct Return', fontsize=16)\n",
        "plt.title('VIX Returns', fontsize=20)"
      ],
      "execution_count": null,
      "outputs": [
        {
          "output_type": "execute_result",
          "data": {
            "text/plain": [
              "Text(0.5, 1.0, 'VIX Returns')"
            ]
          },
          "metadata": {},
          "execution_count": 119
        },
        {
          "output_type": "display_data",
          "data": {
            "image/png": "[encoded data removed]",
            "text/plain": [
              "<Figure size 720x288 with 1 Axes>"
            ]
          },
          "metadata": {
            "needs_background": "light"
          }
        }
      ]
    },
    {
      "cell_type": "markdown",
      "metadata": {
        "id": "kuwvUI4BgYHC"
      },
      "source": [
        "# Determine orders of the GARCH model using partial Autocorrelation"
      ]
    },
    {
      "cell_type": "code",
      "metadata": {
        "colab": {
          "base_uri": "https://localhost:8080/",
          "height": 338
        },
        "id": "s1VizfgEYc1a",
        "outputId": "e24600fd-0b45-4a83-99df-bed1a060a086"
      },
      "source": [
        "plot_pacf(returns**2)\n",
        "plt.show()"
      ],
      "execution_count": null,
      "outputs": [
        {
          "output_type": "stream",
          "name": "stderr",
          "text": [
            "/usr/local/lib/python3.7/dist-packages/statsmodels/graphics/tsaplots.py:353: FutureWarning: The default method 'yw' can produce PACF values outside of the [-1,1] interval. After 0.13, the default will change tounadjusted Yule-Walker ('ywm'). You can use this method now by setting method='ywm'.\n",
            "  FutureWarning,\n"
          ]
        },
        {
          "output_type": "display_data",
          "data": {
            "image/png": "[encoded data removed]",
            "text/plain": [
              "<Figure size 432x288 with 1 Axes>"
            ]
          },
          "metadata": {
            "needs_background": "light"
          }
        }
      ]
    },
    {
      "cell_type": "code",
      "metadata": {
        "id": "9dUKIcgXYiJe"
      },
      "source": [
        "model = arch_model(returns, mean='Zero', vol='EGARCH',p=2, q=0) #then change q to 0"
      ],
      "execution_count": null,
      "outputs": []
    },
    {
      "cell_type": "markdown",
      "metadata": {
        "id": "1bvALE3RgiOD"
      },
      "source": [
        "# Fitting the model"
      ]
    },
    {
      "cell_type": "code",
      "metadata": {
        "colab": {
          "base_uri": "https://localhost:8080/"
        },
        "id": "wimQGDAsY1sr",
        "outputId": "d8ec6f56-d599-4ac2-ef8b-44e5230bd4e7"
      },
      "source": [
        "model_fit = model.fit()"
      ],
      "execution_count": null,
      "outputs": [
        {
          "output_type": "stream",
          "name": "stdout",
          "text": [
            "Iteration:      1,   Func. Count:      5,   Neg. LLF: 2371.855975209791\n",
            "Iteration:      2,   Func. Count:     14,   Neg. LLF: 2130.1437442171336\n",
            "Iteration:      3,   Func. Count:     22,   Neg. LLF: 2112.3580805565125\n",
            "Iteration:      4,   Func. Count:     29,   Neg. LLF: 1609.618202613485\n",
            "Iteration:      5,   Func. Count:     34,   Neg. LLF: 1598.8104191970394\n",
            "Iteration:      6,   Func. Count:     39,   Neg. LLF: 1589.6269404910877\n",
            "Iteration:      7,   Func. Count:     44,   Neg. LLF: 1587.9818819381283\n",
            "Iteration:      8,   Func. Count:     49,   Neg. LLF: 1585.1593133501292\n",
            "Iteration:      9,   Func. Count:     54,   Neg. LLF: 1585.0248547013002\n",
            "Iteration:     10,   Func. Count:     59,   Neg. LLF: 1585.019158436643\n",
            "Iteration:     11,   Func. Count:     64,   Neg. LLF: 1585.0187150056329\n",
            "Iteration:     12,   Func. Count:     69,   Neg. LLF: 1585.0172417034216\n",
            "Iteration:     13,   Func. Count:     74,   Neg. LLF: 1585.014774549058\n",
            "Iteration:     14,   Func. Count:     79,   Neg. LLF: 1585.0129176616956\n",
            "Iteration:     15,   Func. Count:     84,   Neg. LLF: 1585.0123229045328\n",
            "Iteration:     16,   Func. Count:     89,   Neg. LLF: 1585.0122621764685\n",
            "Iteration:     17,   Func. Count:     94,   Neg. LLF: 1585.0122601262206\n",
            "Optimization terminated successfully.    (Exit mode 0)\n",
            "            Current function value: 1585.0122601261937\n",
            "            Iterations: 17\n",
            "            Function evaluations: 94\n",
            "            Gradient evaluations: 17\n"
          ]
        }
      ]
    },
    {
      "cell_type": "code",
      "metadata": {
        "colab": {
          "base_uri": "https://localhost:8080/",
          "height": 358
        },
        "id": "btcNPuA9Y2nc",
        "outputId": "188f9538-af35-44b5-ff7a-5f470f41f816"
      },
      "source": [
        "model_fit.summary()"
      ],
      "execution_count": null,
      "outputs": [
        {
          "output_type": "execute_result",
          "data": {
            "text/html": [
              "<table class=\"simpletable\">\n",
              "<caption>Zero Mean - EARCH Model Results</caption>\n",
              "<tr>\n",
              "  <th>Dep. Variable:</th>      <td>VIX_Close</td>     <th>  R-squared:         </th>  <td>   0.000</td> \n",
              "</tr>\n",
              "<tr>\n",
              "  <th>Mean Model:</th>         <td>Zero Mean</td>     <th>  Adj. R-squared:    </th>  <td>   0.002</td> \n",
              "</tr>\n",
              "<tr>\n",
              "  <th>Vol Model:</th>            <td>EARCH</td>       <th>  Log-Likelihood:    </th> <td>  -1585.01</td>\n",
              "</tr>\n",
              "<tr>\n",
              "  <th>Distribution:</th>        <td>Normal</td>       <th>  AIC:               </th> <td>   3176.02</td>\n",
              "</tr>\n",
              "<tr>\n",
              "  <th>Method:</th>        <td>Maximum Likelihood</td> <th>  BIC:               </th> <td>   3188.37</td>\n",
              "</tr>\n",
              "<tr>\n",
              "  <th></th>                        <td></td>          <th>  No. Observations:  </th>     <td>452</td>   \n",
              "</tr>\n",
              "<tr>\n",
              "  <th>Date:</th>           <td>Tue, Oct 19 2021</td>  <th>  Df Residuals:      </th>     <td>452</td>   \n",
              "</tr>\n",
              "<tr>\n",
              "  <th>Time:</th>               <td>20:12:38</td>      <th>  Df Model:          </th>      <td>0</td>    \n",
              "</tr>\n",
              "</table>\n",
              "<table class=\"simpletable\">\n",
              "<caption>Volatility Model</caption>\n",
              "<tr>\n",
              "      <td></td>        <th>coef</th>     <th>std err</th>      <th>t</th>        <th>P>|t|</th>    <th>95.0% Conf. Int.</th>  \n",
              "</tr>\n",
              "<tr>\n",
              "  <th>omega</th>    <td>    4.2194</td> <td>    0.130</td> <td>   32.422</td> <td>1.349e-230</td>  <td>[  3.964,  4.474]</td> \n",
              "</tr>\n",
              "<tr>\n",
              "  <th>alpha[1]</th> <td>    0.3103</td> <td>    0.125</td> <td>    2.483</td>  <td>1.304e-02</td> <td>[6.534e-02,  0.555]</td>\n",
              "</tr>\n",
              "<tr>\n",
              "  <th>alpha[2]</th> <td>    0.3583</td> <td>9.280e-02</td> <td>    3.861</td>  <td>1.131e-04</td>  <td>[  0.176,  0.540]</td> \n",
              "</tr>\n",
              "</table><br/><br/>Covariance estimator: robust"
            ],
            "text/plain": [
              "<class 'statsmodels.iolib.summary.Summary'>\n",
              "\"\"\"\n",
              "                       Zero Mean - EARCH Model Results                        \n",
              "==============================================================================\n",
              "Dep. Variable:              VIX_Close   R-squared:                       0.000\n",
              "Mean Model:                 Zero Mean   Adj. R-squared:                  0.002\n",
              "Vol Model:                      EARCH   Log-Likelihood:               -1585.01\n",
              "Distribution:                  Normal   AIC:                           3176.02\n",
              "Method:            Maximum Likelihood   BIC:                           3188.37\n",
              "                                        No. Observations:                  452\n",
              "Date:                Tue, Oct 19 2021   Df Residuals:                      452\n",
              "Time:                        20:12:38   Df Model:                            0\n",
              "                             Volatility Model                             \n",
              "==========================================================================\n",
              "                 coef    std err          t      P>|t|    95.0% Conf. Int.\n",
              "--------------------------------------------------------------------------\n",
              "omega          4.2194      0.130     32.422 1.349e-230   [  3.964,  4.474]\n",
              "alpha[1]       0.3103      0.125      2.483  1.304e-02 [6.534e-02,  0.555]\n",
              "alpha[2]       0.3583  9.280e-02      3.861  1.131e-04   [  0.176,  0.540]\n",
              "==========================================================================\n",
              "\n",
              "Covariance estimator: robust\n",
              "\"\"\""
            ]
          },
          "metadata": {},
          "execution_count": 123
        }
      ]
    },
    {
      "cell_type": "code",
      "metadata": {
        "id": "jonWRtr0Y4Ce"
      },
      "source": [
        "rolling_predictions = []\n",
        "predictions=[]\n",
        "simulations=[]\n",
        "test_size = 252\n",
        "\n",
        "for i in range(test_size):\n",
        "    train = returns[:-(test_size-i)]\n",
        "    model = arch_model(train, vol='GARCH', p=2, q=1)\n",
        "    model_fit = model.fit(disp='off')\n",
        "    pred = model_fit.forecast(horizon=1)\n",
        "    predictions.append(pred.mean.values[-1,:][0])\n",
        "    simulations.append(pred.simulations)\n",
        "    # predictions.append(np.sqrt(pred.values[-1,:][0]))\n",
        "    rolling_predictions.append(pred.variance.values[-1][0]**0.5) \n"
      ],
      "execution_count": null,
      "outputs": []
    },
    {
      "cell_type": "code",
      "metadata": {
        "id": "SwFhx2Ls3ebE"
      },
      "source": [
        "# rolling_predictions"
      ],
      "execution_count": null,
      "outputs": []
    },
    {
      "cell_type": "code",
      "metadata": {
        "colab": {
          "base_uri": "https://localhost:8080/",
          "height": 285
        },
        "id": "1cp_KZbsHEJL",
        "outputId": "032ba573-65ae-4c76-d0b6-b0562b8407c3"
      },
      "source": [
        "# plt.plot(rolling_predictions)"
      ],
      "execution_count": null,
      "outputs": [
        {
          "output_type": "execute_result",
          "data": {
            "text/plain": [
              "[<matplotlib.lines.Line2D at 0x7f797a99e650>]"
            ]
          },
          "metadata": {},
          "execution_count": 127
        },
        {
          "output_type": "display_data",
          "data": {
            "image/png": "[encoded data removed]",
            "text/plain": [
              "<Figure size 432x288 with 1 Axes>"
            ]
          },
          "metadata": {
            "needs_background": "light"
          }
        }
      ]
    },
    {
      "cell_type": "code",
      "metadata": {
        "id": "bkauahaj33mC"
      },
      "source": [
        ""
      ],
      "execution_count": null,
      "outputs": []
    },
    {
      "cell_type": "code",
      "metadata": {
        "id": "fKv7t4pNY6TS"
      },
      "source": [
        "rolling_predictions = pd.Series(rolling_predictions, index=returns.index[-252:])\n",
        "# rolling_predictions"
      ],
      "execution_count": null,
      "outputs": []
    },
    {
      "cell_type": "markdown",
      "metadata": {
        "id": "xlwYZDWmgnCI"
      },
      "source": [
        "# Predictions"
      ]
    },
    {
      "cell_type": "code",
      "metadata": {
        "id": "ocSzezsLHnQ1"
      },
      "source": [
        "# plt.plot(np.array(returns[-365:]))\n",
        "# plt.plot(np.array(rolling_predictions))"
      ],
      "execution_count": null,
      "outputs": []
    },
    {
      "cell_type": "code",
      "metadata": {
        "colab": {
          "base_uri": "https://localhost:8080/",
          "height": 306
        },
        "id": "vgoUFF2WZpr_",
        "outputId": "158c0325-0d16-4e95-c2af-1e89290567a7"
      },
      "source": [
        "plt.figure(figsize=(10,4))\n",
        "# true, = plt.plot(np.array(returns[-252:]))\n",
        "true, = plt.plot(np.array(df.VIX_Close[-252:]))\n",
        "preds, = plt.plot(np.array((rolling_predictions)))\n",
        "plt.title('Volatility Prediction - Rolling Forecast', fontsize=20)\n",
        "plt.legend(['True Returns', 'Predicted Volatility'], fontsize=16)"
      ],
      "execution_count": null,
      "outputs": [
        {
          "output_type": "execute_result",
          "data": {
            "text/plain": [
              "<matplotlib.legend.Legend at 0x7f797a7e1d90>"
            ]
          },
          "metadata": {},
          "execution_count": 133
        },
        {
          "output_type": "display_data",
          "data": {
            "image/png": "[encoded data removed]",
            "text/plain": [
              "<Figure size 720x288 with 1 Axes>"
            ]
          },
          "metadata": {
            "needs_background": "light"
          }
        }
      ]
    },
    {
      "cell_type": "code",
      "metadata": {
        "id": "YYtrsRP-NIbi"
      },
      "source": [
        "plt.figure(figsize=(10,4))\n",
        "true, = plt.plot(np.array(returns[-252:]))\n",
        "# true, = plt.plot(np.array(df.VIX_Close[-252:]))\n",
        "preds, = plt.plot(np.array((rolling_predictions)))\n",
        "plt.title('Volatility Prediction - Rolling Forecast', fontsize=20)\n",
        "plt.legend(['True Returns', 'Predicted Volatility'], fontsize=16)"
      ],
      "execution_count": null,
      "outputs": []
    },
    {
      "cell_type": "code",
      "metadata": {
        "id": "kRMJKQy8MGIw"
      },
      "source": [
        "daily_return = rolling_predictions.pct_change(1)"
      ],
      "execution_count": null,
      "outputs": []
    },
    {
      "cell_type": "code",
      "metadata": {
        "colab": {
          "base_uri": "https://localhost:8080/"
        },
        "id": "9umACJafI8xE",
        "outputId": "0b06d3cc-2aa2-4778-dfa7-bda4696feedd"
      },
      "source": [
        "daily_return"
      ],
      "execution_count": null,
      "outputs": [
        {
          "output_type": "execute_result",
          "data": {
            "text/plain": [
              "Date\n",
              "2020-10-19         NaN\n",
              "2020-10-20    0.137037\n",
              "2020-10-21    0.119104\n",
              "2020-10-22   -0.185721\n",
              "2020-10-23   -0.093993\n",
              "                ...   \n",
              "2021-10-12   -0.005823\n",
              "2021-10-13   -0.029705\n",
              "2021-10-14   -0.014233\n",
              "2021-10-18    0.156967\n",
              "2021-10-19   -0.003104\n",
              "Length: 252, dtype: float64"
            ]
          },
          "metadata": {},
          "execution_count": 135
        }
      ]
    },
    {
      "cell_type": "code",
      "metadata": {
        "id": "MJtC4uDHZtZy"
      },
      "source": [
        "train = returns\n",
        "model = arch_model(train, p=2, q=0)\n",
        "model_fit = model.fit(disp='off')"
      ],
      "execution_count": null,
      "outputs": []
    },
    {
      "cell_type": "code",
      "metadata": {
        "id": "V_831eN7Zx-B"
      },
      "source": [
        "pred = model_fit.forecast(horizon=30)\n",
        "future_dates = [returns.index[-1] + timedelta(days=i) for i in range(1,31)]\n",
        "pred = pd.Series(np.sqrt(pred.variance.values[-1,:]), index=future_dates)\n",
        "# pred = pd.Series(pred.variance.values[-1,:]), index=future_dates)"
      ],
      "execution_count": null,
      "outputs": []
    },
    {
      "cell_type": "code",
      "metadata": {
        "id": "lU3apmIEv-lQ"
      },
      "source": [
        "pred.variance.values[-1,:]"
      ],
      "execution_count": null,
      "outputs": []
    },
    {
      "cell_type": "markdown",
      "metadata": {
        "id": "EPsOsM-KgqGf"
      },
      "source": [
        "# Actual Predictions"
      ]
    },
    {
      "cell_type": "code",
      "metadata": {
        "id": "8F_CgRiAZzih"
      },
      "source": [
        "# plt.figure(figsize=(10,4))\n",
        "# plt.plot(pred)\n",
        "# plt.title('Volatility Prediction - Next 7 Days', fontsize=20)"
      ],
      "execution_count": null,
      "outputs": []
    },
    {
      "cell_type": "code",
      "metadata": {
        "colab": {
          "base_uri": "https://localhost:8080/"
        },
        "id": "K_90h833s_BN",
        "outputId": "a260e328-6d31-4438-a6da-9a25d414a572"
      },
      "source": [
        "pred"
      ],
      "execution_count": null,
      "outputs": [
        {
          "output_type": "execute_result",
          "data": {
            "text/plain": [
              "2021-10-19     9.700326\n",
              "2021-10-20     8.285306\n",
              "2021-10-21    10.023354\n",
              "2021-10-22     9.612295\n",
              "2021-10-23    10.218874\n",
              "2021-10-24    10.098707\n",
              "2021-10-25    10.323198\n",
              "2021-10-26    10.290173\n",
              "2021-10-27    10.375460\n",
              "2021-10-28    10.367735\n",
              "2021-10-29    10.400659\n",
              "2021-10-30    10.399635\n",
              "2021-10-31    10.412502\n",
              "2021-11-01    10.412885\n",
              "2021-11-02    10.417967\n",
              "2021-11-03    10.418428\n",
              "2021-11-04    10.420455\n",
              "2021-11-05    10.420760\n",
              "2021-11-06    10.421576\n",
              "2021-11-07    10.421746\n",
              "2021-11-08    10.422078\n",
              "2021-11-09    10.422165\n",
              "2021-11-10    10.422301\n",
              "2021-11-11    10.422343\n",
              "2021-11-12    10.422399\n",
              "2021-11-13    10.422419\n",
              "2021-11-14    10.422443\n",
              "2021-11-15    10.422452\n",
              "2021-11-16    10.422462\n",
              "2021-11-17    10.422466\n",
              "dtype: float64"
            ]
          },
          "metadata": {},
          "execution_count": 38
        }
      ]
    },
    {
      "cell_type": "code",
      "metadata": {
        "id": "rC1ZXQ8vtGg2"
      },
      "source": [
        ""
      ],
      "execution_count": null,
      "outputs": []
    },
    {
      "cell_type": "markdown",
      "metadata": {
        "id": "qKgK-HDfeUhW"
      },
      "source": [
        "## Regression Analysis (You can start here)"
      ]
    },
    {
      "cell_type": "code",
      "metadata": {
        "id": "QS6zg3UtZ1LL"
      },
      "source": [
        "!pip install --quiet pingouin\n",
        "import pingouin as pg\n",
        "!pip --quiet install yfinance\n",
        "!pip --quiet install arch\n",
        "import yfinance as yf\n",
        "import datetime as dt\n",
        "import numpy as np\n",
        "import pandas as pd\n",
        "import matplotlib.pyplot as plt"
      ],
      "execution_count": null,
      "outputs": []
    },
    {
      "cell_type": "code",
      "metadata": {
        "colab": {
          "base_uri": "https://localhost:8080/",
          "height": 235
        },
        "id": "vDFw5xA97q5l",
        "outputId": "900dd238-340a-4891-ad1d-18ef88895271"
      },
      "source": [
        "df=pd.read_csv('https://raw.githubusercontent.com/Viktor-BDML/ctf/main/df_monthly_regression.csv')\n",
        "df.set_index('DATE', inplace=True)\n",
        "df.tail()"
      ],
      "execution_count": null,
      "outputs": [
        {
          "output_type": "execute_result",
          "data": {
            "text/html": [
              "<div>\n",
              "<style scoped>\n",
              "    .dataframe tbody tr th:only-of-type {\n",
              "        vertical-align: middle;\n",
              "    }\n",
              "\n",
              "    .dataframe tbody tr th {\n",
              "        vertical-align: top;\n",
              "    }\n",
              "\n",
              "    .dataframe thead th {\n",
              "        text-align: right;\n",
              "    }\n",
              "</style>\n",
              "<table border=\"1\" class=\"dataframe\">\n",
              "  <thead>\n",
              "    <tr style=\"text-align: right;\">\n",
              "      <th></th>\n",
              "      <th>UNRATE</th>\n",
              "      <th>CPI</th>\n",
              "      <th>SPY</th>\n",
              "      <th>VIX</th>\n",
              "      <th>OIL</th>\n",
              "    </tr>\n",
              "    <tr>\n",
              "      <th>DATE</th>\n",
              "      <th></th>\n",
              "      <th></th>\n",
              "      <th></th>\n",
              "      <th></th>\n",
              "      <th></th>\n",
              "    </tr>\n",
              "  </thead>\n",
              "  <tbody>\n",
              "    <tr>\n",
              "      <th>3/31/21</th>\n",
              "      <td>6.1</td>\n",
              "      <td>112.579267</td>\n",
              "      <td>387.004112</td>\n",
              "      <td>21.843044</td>\n",
              "      <td>62.357391</td>\n",
              "    </tr>\n",
              "    <tr>\n",
              "      <th>4/30/21</th>\n",
              "      <td>5.8</td>\n",
              "      <td>113.304531</td>\n",
              "      <td>410.249699</td>\n",
              "      <td>17.416191</td>\n",
              "      <td>61.703810</td>\n",
              "    </tr>\n",
              "    <tr>\n",
              "      <th>5/31/21</th>\n",
              "      <td>5.9</td>\n",
              "      <td>114.329774</td>\n",
              "      <td>413.295973</td>\n",
              "      <td>19.760500</td>\n",
              "      <td>65.157000</td>\n",
              "    </tr>\n",
              "    <tr>\n",
              "      <th>6/30/21</th>\n",
              "      <td>5.4</td>\n",
              "      <td>114.871507</td>\n",
              "      <td>420.822737</td>\n",
              "      <td>16.956818</td>\n",
              "      <td>71.352729</td>\n",
              "    </tr>\n",
              "    <tr>\n",
              "      <th>7/31/21</th>\n",
              "      <td>5.2</td>\n",
              "      <td>115.186674</td>\n",
              "      <td>433.704837</td>\n",
              "      <td>17.603334</td>\n",
              "      <td>72.430477</td>\n",
              "    </tr>\n",
              "  </tbody>\n",
              "</table>\n",
              "</div>"
            ],
            "text/plain": [
              "         UNRATE         CPI         SPY        VIX        OIL\n",
              "DATE                                                         \n",
              "3/31/21     6.1  112.579267  387.004112  21.843044  62.357391\n",
              "4/30/21     5.8  113.304531  410.249699  17.416191  61.703810\n",
              "5/31/21     5.9  114.329774  413.295973  19.760500  65.157000\n",
              "6/30/21     5.4  114.871507  420.822737  16.956818  71.352729\n",
              "7/31/21     5.2  115.186674  433.704837  17.603334  72.430477"
            ]
          },
          "metadata": {},
          "execution_count": 5
        }
      ]
    },
    {
      "cell_type": "code",
      "metadata": {
        "colab": {
          "base_uri": "https://localhost:8080/",
          "height": 204
        },
        "id": "p1DJ9Ipl77xf",
        "outputId": "35a2917a-805c-4b88-9c1c-52158f0daf77"
      },
      "source": [
        "pg.linear_regression(df[['UNRATE','CPI','SPY','OIL']], df['VIX'])"
      ],
      "execution_count": null,
      "outputs": [
        {
          "output_type": "execute_result",
          "data": {
            "text/html": [
              "<div>\n",
              "<style scoped>\n",
              "    .dataframe tbody tr th:only-of-type {\n",
              "        vertical-align: middle;\n",
              "    }\n",
              "\n",
              "    .dataframe tbody tr th {\n",
              "        vertical-align: top;\n",
              "    }\n",
              "\n",
              "    .dataframe thead th {\n",
              "        text-align: right;\n",
              "    }\n",
              "</style>\n",
              "<table border=\"1\" class=\"dataframe\">\n",
              "  <thead>\n",
              "    <tr style=\"text-align: right;\">\n",
              "      <th></th>\n",
              "      <th>names</th>\n",
              "      <th>coef</th>\n",
              "      <th>se</th>\n",
              "      <th>T</th>\n",
              "      <th>pval</th>\n",
              "      <th>r2</th>\n",
              "      <th>adj_r2</th>\n",
              "      <th>CI[2.5%]</th>\n",
              "      <th>CI[97.5%]</th>\n",
              "    </tr>\n",
              "  </thead>\n",
              "  <tbody>\n",
              "    <tr>\n",
              "      <th>0</th>\n",
              "      <td>Intercept</td>\n",
              "      <td>-82.429191</td>\n",
              "      <td>28.229398</td>\n",
              "      <td>-2.919977</td>\n",
              "      <td>4.108193e-03</td>\n",
              "      <td>0.652574</td>\n",
              "      <td>0.642203</td>\n",
              "      <td>-138.262021</td>\n",
              "      <td>-26.596360</td>\n",
              "    </tr>\n",
              "    <tr>\n",
              "      <th>1</th>\n",
              "      <td>UNRATE</td>\n",
              "      <td>2.847726</td>\n",
              "      <td>0.186610</td>\n",
              "      <td>15.260275</td>\n",
              "      <td>4.243105e-31</td>\n",
              "      <td>0.652574</td>\n",
              "      <td>0.642203</td>\n",
              "      <td>2.478643</td>\n",
              "      <td>3.216809</td>\n",
              "    </tr>\n",
              "    <tr>\n",
              "      <th>2</th>\n",
              "      <td>CPI</td>\n",
              "      <td>0.978156</td>\n",
              "      <td>0.313444</td>\n",
              "      <td>3.120673</td>\n",
              "      <td>2.210267e-03</td>\n",
              "      <td>0.652574</td>\n",
              "      <td>0.642203</td>\n",
              "      <td>0.358218</td>\n",
              "      <td>1.598093</td>\n",
              "    </tr>\n",
              "    <tr>\n",
              "      <th>3</th>\n",
              "      <td>SPY</td>\n",
              "      <td>-0.045553</td>\n",
              "      <td>0.020909</td>\n",
              "      <td>-2.178597</td>\n",
              "      <td>3.111074e-02</td>\n",
              "      <td>0.652574</td>\n",
              "      <td>0.642203</td>\n",
              "      <td>-0.086907</td>\n",
              "      <td>-0.004198</td>\n",
              "    </tr>\n",
              "    <tr>\n",
              "      <th>4</th>\n",
              "      <td>OIL</td>\n",
              "      <td>-0.113889</td>\n",
              "      <td>0.018961</td>\n",
              "      <td>-6.006348</td>\n",
              "      <td>1.682814e-08</td>\n",
              "      <td>0.652574</td>\n",
              "      <td>0.642203</td>\n",
              "      <td>-0.151392</td>\n",
              "      <td>-0.076387</td>\n",
              "    </tr>\n",
              "  </tbody>\n",
              "</table>\n",
              "</div>"
            ],
            "text/plain": [
              "       names       coef         se  ...    adj_r2    CI[2.5%]  CI[97.5%]\n",
              "0  Intercept -82.429191  28.229398  ...  0.642203 -138.262021 -26.596360\n",
              "1     UNRATE   2.847726   0.186610  ...  0.642203    2.478643   3.216809\n",
              "2        CPI   0.978156   0.313444  ...  0.642203    0.358218   1.598093\n",
              "3        SPY  -0.045553   0.020909  ...  0.642203   -0.086907  -0.004198\n",
              "4        OIL  -0.113889   0.018961  ...  0.642203   -0.151392  -0.076387\n",
              "\n",
              "[5 rows x 9 columns]"
            ]
          },
          "metadata": {},
          "execution_count": 6
        }
      ]
    },
    {
      "cell_type": "markdown",
      "metadata": {
        "id": "P4dQnBLlBQDL"
      },
      "source": [
        "## Incorporating COVID & Bitcoin"
      ]
    },
    {
      "cell_type": "code",
      "metadata": {
        "colab": {
          "base_uri": "https://localhost:8080/",
          "height": 235
        },
        "id": "5gKI1FOhBTV8",
        "outputId": "e02245ed-09a1-44f8-ff59-cd058fbd251d"
      },
      "source": [
        "df_covid=pd.read_csv('https://raw.githubusercontent.com/owid/covid-19-data/master/public/data/jhu/new_deaths.csv')\n",
        "df_covid['date'] = pd.to_datetime(df_covid['date'])\n",
        "df_covid.set_index('date', inplace=True)\n",
        "df_US=df_covid[['United States']]\n",
        "df_US = df_US[df_US['United States'].notna()]\n",
        "df_US = df_US.rename({'United States': 'US_Covid_Deaths'}, axis=1)\n",
        "df_US.head(5)"
      ],
      "execution_count": null,
      "outputs": [
        {
          "output_type": "execute_result",
          "data": {
            "text/html": [
              "<div>\n",
              "<style scoped>\n",
              "    .dataframe tbody tr th:only-of-type {\n",
              "        vertical-align: middle;\n",
              "    }\n",
              "\n",
              "    .dataframe tbody tr th {\n",
              "        vertical-align: top;\n",
              "    }\n",
              "\n",
              "    .dataframe thead th {\n",
              "        text-align: right;\n",
              "    }\n",
              "</style>\n",
              "<table border=\"1\" class=\"dataframe\">\n",
              "  <thead>\n",
              "    <tr style=\"text-align: right;\">\n",
              "      <th></th>\n",
              "      <th>US_Covid_Deaths</th>\n",
              "    </tr>\n",
              "    <tr>\n",
              "      <th>date</th>\n",
              "      <th></th>\n",
              "    </tr>\n",
              "  </thead>\n",
              "  <tbody>\n",
              "    <tr>\n",
              "      <th>2020-02-29</th>\n",
              "      <td>1.0</td>\n",
              "    </tr>\n",
              "    <tr>\n",
              "      <th>2020-03-01</th>\n",
              "      <td>0.0</td>\n",
              "    </tr>\n",
              "    <tr>\n",
              "      <th>2020-03-02</th>\n",
              "      <td>5.0</td>\n",
              "    </tr>\n",
              "    <tr>\n",
              "      <th>2020-03-03</th>\n",
              "      <td>1.0</td>\n",
              "    </tr>\n",
              "    <tr>\n",
              "      <th>2020-03-04</th>\n",
              "      <td>4.0</td>\n",
              "    </tr>\n",
              "  </tbody>\n",
              "</table>\n",
              "</div>"
            ],
            "text/plain": [
              "            US_Covid_Deaths\n",
              "date                       \n",
              "2020-02-29              1.0\n",
              "2020-03-01              0.0\n",
              "2020-03-02              5.0\n",
              "2020-03-03              1.0\n",
              "2020-03-04              4.0"
            ]
          },
          "metadata": {},
          "execution_count": 7
        }
      ]
    },
    {
      "cell_type": "code",
      "metadata": {
        "colab": {
          "base_uri": "https://localhost:8080/"
        },
        "id": "ZAhgIYuBBZVB",
        "outputId": "92eca845-d236-4c4a-91cb-7ddf7538cd99"
      },
      "source": [
        "start = dt.datetime(2010, 1, 1)\n",
        "end = dt.datetime.now()\n",
        "\n",
        "df_VIX = yf.download(\"^VIX\", start=start, end=end)\n",
        "df_spy = yf.download(\"SPY\", start=start, end=end)\n",
        "df_VIX=df_VIX[['Adj Close']]\n",
        "df_spy=df_spy[['Adj Close']]\n",
        "df_VIX = df_VIX.rename({'Adj Close': 'VIX_Close'}, axis=1)\n",
        "df_spy = df_spy.rename({'Adj Close': 'SPY_Close'}, axis=1)"
      ],
      "execution_count": null,
      "outputs": [
        {
          "output_type": "stream",
          "name": "stdout",
          "text": [
            "[*********************100%***********************]  1 of 1 completed\n",
            "[*********************100%***********************]  1 of 1 completed\n"
          ]
        }
      ]
    },
    {
      "cell_type": "code",
      "metadata": {
        "colab": {
          "base_uri": "https://localhost:8080/"
        },
        "id": "B5u_hNSOBf65",
        "outputId": "36f8ba52-8f69-46a3-f123-2ce070bad8ec"
      },
      "source": [
        "start = dt.datetime(2010, 1, 1)\n",
        "end = dt.datetime.now()\n",
        "\n",
        "df_oil = yf.download(\"CL=F\", start=start, end=end)\n",
        "df_oil=df_oil[['Adj Close']]\n",
        "df_oil = df_oil.rename({'Adj Close': 'OIL_Close'}, axis=1)\n",
        "# df_oil\n",
        "df_bitcoin = yf.download(\"BTC-USD\", start=start, end=end)\n",
        "df_bitcoin=df_bitcoin[['Adj Close']]\n",
        "df_bitcoin = df_bitcoin.rename({'Adj Close': 'Bitcoin_Close'}, axis=1)\n",
        "# df_bitcoin"
      ],
      "execution_count": null,
      "outputs": [
        {
          "output_type": "stream",
          "name": "stdout",
          "text": [
            "[*********************100%***********************]  1 of 1 completed\n",
            "[*********************100%***********************]  1 of 1 completed\n"
          ]
        }
      ]
    },
    {
      "cell_type": "code",
      "metadata": {
        "id": "8fjelXZ2BhCl"
      },
      "source": [
        "spy=df_spy.SPY_Close\n",
        "vix=df_VIX.VIX_Close\n",
        "oil=df_oil.OIL_Close\n",
        "US_covid=df_US.US_Covid_Deaths\n",
        "bitcoin=df_bitcoin.Bitcoin_Close\n",
        "\n",
        "df_frame = { 'SPY': spy, 'VIX': vix, 'OIL': oil,'US_covid':US_covid,'Bitcoin':bitcoin}\n",
        "data = pd.DataFrame(df_frame)\n",
        "data = data[data['OIL'].notna()]\n",
        "data = data[data['US_covid'].notna()]\n",
        "data = data[data['Bitcoin'].notna()]\n",
        "data = data[data['VIX'].notna()]\n",
        "data = data[data['SPY'].notna()]"
      ],
      "execution_count": null,
      "outputs": []
    },
    {
      "cell_type": "code",
      "metadata": {
        "colab": {
          "base_uri": "https://localhost:8080/",
          "height": 419
        },
        "id": "HfR8aJqQCLUn",
        "outputId": "a61a8cf5-5c14-4ed2-b631-391d63aa7bb2"
      },
      "source": [
        "data"
      ],
      "execution_count": null,
      "outputs": [
        {
          "output_type": "execute_result",
          "data": {
            "text/html": [
              "<div>\n",
              "<style scoped>\n",
              "    .dataframe tbody tr th:only-of-type {\n",
              "        vertical-align: middle;\n",
              "    }\n",
              "\n",
              "    .dataframe tbody tr th {\n",
              "        vertical-align: top;\n",
              "    }\n",
              "\n",
              "    .dataframe thead th {\n",
              "        text-align: right;\n",
              "    }\n",
              "</style>\n",
              "<table border=\"1\" class=\"dataframe\">\n",
              "  <thead>\n",
              "    <tr style=\"text-align: right;\">\n",
              "      <th></th>\n",
              "      <th>SPY</th>\n",
              "      <th>VIX</th>\n",
              "      <th>OIL</th>\n",
              "      <th>US_covid</th>\n",
              "      <th>Bitcoin</th>\n",
              "    </tr>\n",
              "  </thead>\n",
              "  <tbody>\n",
              "    <tr>\n",
              "      <th>2020-03-02</th>\n",
              "      <td>300.484222</td>\n",
              "      <td>33.419998</td>\n",
              "      <td>46.750000</td>\n",
              "      <td>5.0</td>\n",
              "      <td>8869.669922</td>\n",
              "    </tr>\n",
              "    <tr>\n",
              "      <th>2020-03-03</th>\n",
              "      <td>291.880615</td>\n",
              "      <td>36.820000</td>\n",
              "      <td>47.180000</td>\n",
              "      <td>1.0</td>\n",
              "      <td>8787.786133</td>\n",
              "    </tr>\n",
              "    <tr>\n",
              "      <th>2020-03-04</th>\n",
              "      <td>304.149261</td>\n",
              "      <td>31.990000</td>\n",
              "      <td>46.779999</td>\n",
              "      <td>4.0</td>\n",
              "      <td>8755.246094</td>\n",
              "    </tr>\n",
              "    <tr>\n",
              "      <th>2020-03-05</th>\n",
              "      <td>294.038818</td>\n",
              "      <td>39.619999</td>\n",
              "      <td>45.900002</td>\n",
              "      <td>1.0</td>\n",
              "      <td>9078.762695</td>\n",
              "    </tr>\n",
              "    <tr>\n",
              "      <th>2020-03-06</th>\n",
              "      <td>289.178009</td>\n",
              "      <td>41.939999</td>\n",
              "      <td>41.279999</td>\n",
              "      <td>2.0</td>\n",
              "      <td>9122.545898</td>\n",
              "    </tr>\n",
              "    <tr>\n",
              "      <th>...</th>\n",
              "      <td>...</td>\n",
              "      <td>...</td>\n",
              "      <td>...</td>\n",
              "      <td>...</td>\n",
              "      <td>...</td>\n",
              "    </tr>\n",
              "    <tr>\n",
              "      <th>2021-10-08</th>\n",
              "      <td>437.859985</td>\n",
              "      <td>18.770000</td>\n",
              "      <td>79.349998</td>\n",
              "      <td>1856.0</td>\n",
              "      <td>53967.847656</td>\n",
              "    </tr>\n",
              "    <tr>\n",
              "      <th>2021-10-11</th>\n",
              "      <td>434.690002</td>\n",
              "      <td>20.000000</td>\n",
              "      <td>80.519997</td>\n",
              "      <td>1192.0</td>\n",
              "      <td>57484.789062</td>\n",
              "    </tr>\n",
              "    <tr>\n",
              "      <th>2021-10-12</th>\n",
              "      <td>433.619995</td>\n",
              "      <td>19.850000</td>\n",
              "      <td>80.639999</td>\n",
              "      <td>2215.0</td>\n",
              "      <td>56041.058594</td>\n",
              "    </tr>\n",
              "    <tr>\n",
              "      <th>2021-10-13</th>\n",
              "      <td>435.179993</td>\n",
              "      <td>18.639999</td>\n",
              "      <td>80.440002</td>\n",
              "      <td>3087.0</td>\n",
              "      <td>57401.097656</td>\n",
              "    </tr>\n",
              "    <tr>\n",
              "      <th>2021-10-14</th>\n",
              "      <td>442.500000</td>\n",
              "      <td>16.860001</td>\n",
              "      <td>81.309998</td>\n",
              "      <td>2005.0</td>\n",
              "      <td>57321.523438</td>\n",
              "    </tr>\n",
              "  </tbody>\n",
              "</table>\n",
              "<p>405 rows × 5 columns</p>\n",
              "</div>"
            ],
            "text/plain": [
              "                   SPY        VIX        OIL  US_covid       Bitcoin\n",
              "2020-03-02  300.484222  33.419998  46.750000       5.0   8869.669922\n",
              "2020-03-03  291.880615  36.820000  47.180000       1.0   8787.786133\n",
              "2020-03-04  304.149261  31.990000  46.779999       4.0   8755.246094\n",
              "2020-03-05  294.038818  39.619999  45.900002       1.0   9078.762695\n",
              "2020-03-06  289.178009  41.939999  41.279999       2.0   9122.545898\n",
              "...                ...        ...        ...       ...           ...\n",
              "2021-10-08  437.859985  18.770000  79.349998    1856.0  53967.847656\n",
              "2021-10-11  434.690002  20.000000  80.519997    1192.0  57484.789062\n",
              "2021-10-12  433.619995  19.850000  80.639999    2215.0  56041.058594\n",
              "2021-10-13  435.179993  18.639999  80.440002    3087.0  57401.097656\n",
              "2021-10-14  442.500000  16.860001  81.309998    2005.0  57321.523438\n",
              "\n",
              "[405 rows x 5 columns]"
            ]
          },
          "metadata": {},
          "execution_count": 11
        }
      ]
    },
    {
      "cell_type": "code",
      "metadata": {
        "colab": {
          "base_uri": "https://localhost:8080/",
          "height": 204
        },
        "id": "aI6zJxwWBmG9",
        "outputId": "3495c104-5294-4a3a-d19a-703f77305ca1"
      },
      "source": [
        "pg.linear_regression(data[['OIL','US_covid','Bitcoin','SPY']], data['VIX'])"
      ],
      "execution_count": null,
      "outputs": [
        {
          "output_type": "execute_result",
          "data": {
            "text/html": [
              "<div>\n",
              "<style scoped>\n",
              "    .dataframe tbody tr th:only-of-type {\n",
              "        vertical-align: middle;\n",
              "    }\n",
              "\n",
              "    .dataframe tbody tr th {\n",
              "        vertical-align: top;\n",
              "    }\n",
              "\n",
              "    .dataframe thead th {\n",
              "        text-align: right;\n",
              "    }\n",
              "</style>\n",
              "<table border=\"1\" class=\"dataframe\">\n",
              "  <thead>\n",
              "    <tr style=\"text-align: right;\">\n",
              "      <th></th>\n",
              "      <th>names</th>\n",
              "      <th>coef</th>\n",
              "      <th>se</th>\n",
              "      <th>T</th>\n",
              "      <th>pval</th>\n",
              "      <th>r2</th>\n",
              "      <th>adj_r2</th>\n",
              "      <th>CI[2.5%]</th>\n",
              "      <th>CI[97.5%]</th>\n",
              "    </tr>\n",
              "  </thead>\n",
              "  <tbody>\n",
              "    <tr>\n",
              "      <th>0</th>\n",
              "      <td>Intercept</td>\n",
              "      <td>96.377795</td>\n",
              "      <td>3.483906</td>\n",
              "      <td>27.663718</td>\n",
              "      <td>6.564815e-95</td>\n",
              "      <td>0.683542</td>\n",
              "      <td>0.680377</td>\n",
              "      <td>89.528741</td>\n",
              "      <td>103.226849</td>\n",
              "    </tr>\n",
              "    <tr>\n",
              "      <th>1</th>\n",
              "      <td>OIL</td>\n",
              "      <td>0.144678</td>\n",
              "      <td>0.054800</td>\n",
              "      <td>2.640128</td>\n",
              "      <td>8.611753e-03</td>\n",
              "      <td>0.683542</td>\n",
              "      <td>0.680377</td>\n",
              "      <td>0.036947</td>\n",
              "      <td>0.252409</td>\n",
              "    </tr>\n",
              "    <tr>\n",
              "      <th>2</th>\n",
              "      <td>US_covid</td>\n",
              "      <td>-0.000480</td>\n",
              "      <td>0.000320</td>\n",
              "      <td>-1.498860</td>\n",
              "      <td>1.346987e-01</td>\n",
              "      <td>0.683542</td>\n",
              "      <td>0.680377</td>\n",
              "      <td>-0.001110</td>\n",
              "      <td>0.000150</td>\n",
              "    </tr>\n",
              "    <tr>\n",
              "      <th>3</th>\n",
              "      <td>Bitcoin</td>\n",
              "      <td>0.000147</td>\n",
              "      <td>0.000032</td>\n",
              "      <td>4.543705</td>\n",
              "      <td>7.330167e-06</td>\n",
              "      <td>0.683542</td>\n",
              "      <td>0.680377</td>\n",
              "      <td>0.000083</td>\n",
              "      <td>0.000210</td>\n",
              "    </tr>\n",
              "    <tr>\n",
              "      <th>4</th>\n",
              "      <td>SPY</td>\n",
              "      <td>-0.224012</td>\n",
              "      <td>0.016108</td>\n",
              "      <td>-13.907281</td>\n",
              "      <td>3.824135e-36</td>\n",
              "      <td>0.683542</td>\n",
              "      <td>0.680377</td>\n",
              "      <td>-0.255678</td>\n",
              "      <td>-0.192346</td>\n",
              "    </tr>\n",
              "  </tbody>\n",
              "</table>\n",
              "</div>"
            ],
            "text/plain": [
              "       names       coef        se  ...    adj_r2   CI[2.5%]   CI[97.5%]\n",
              "0  Intercept  96.377795  3.483906  ...  0.680377  89.528741  103.226849\n",
              "1        OIL   0.144678  0.054800  ...  0.680377   0.036947    0.252409\n",
              "2   US_covid  -0.000480  0.000320  ...  0.680377  -0.001110    0.000150\n",
              "3    Bitcoin   0.000147  0.000032  ...  0.680377   0.000083    0.000210\n",
              "4        SPY  -0.224012  0.016108  ...  0.680377  -0.255678   -0.192346\n",
              "\n",
              "[5 rows x 9 columns]"
            ]
          },
          "metadata": {},
          "execution_count": 12
        }
      ]
    },
    {
      "cell_type": "code",
      "metadata": {
        "id": "mb_3D72PCy39"
      },
      "source": [
        ""
      ],
      "execution_count": null,
      "outputs": []
    }
  ]
}